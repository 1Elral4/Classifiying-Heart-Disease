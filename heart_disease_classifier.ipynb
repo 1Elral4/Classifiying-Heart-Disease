{
 "cells": [
  {
   "cell_type": "markdown",
   "metadata": {},
   "source": [
    "# Heart Disease Classifier"
   ]
  },
  {
   "cell_type": "markdown",
   "metadata": {},
   "source": [
    "## Goal"
   ]
  },
  {
   "cell_type": "markdown",
   "metadata": {},
   "source": [
    "vv"
   ]
  },
  {
   "cell_type": "markdown",
   "metadata": {},
   "source": [
    "## Data"
   ]
  },
  {
   "cell_type": "markdown",
   "metadata": {},
   "source": [
    "We will use the [Heart Disease Data](https://www.kaggle.com/datasets/redwankarimsony/heart-disease-data) Set from the UCI Machine Learning Repository. Comes from the Cleveland Clinic Foundation, which recorded information on various patient characteristics, including age and chest pain, to try to classify the presence of heart disease in an individual."
   ]
  },
  {
   "cell_type": "markdown",
   "metadata": {},
   "source": [
    "- **id**: Unique id for each patient\n",
    "- **age**: Age of the patient in years\n",
    "- **origin**: place of study\n",
    "- **sex**: Male/Female\n",
    "- **c:** chest pain type ([typical angina, atypical angina, non-anginal, asymptomatic]\n",
    "- **trestbp**: resting blood pressure (resting blood pressure (in mm Hg on admission to the hospital)\n",
    "- **chol**: serum cholesterol in mg/dl\n",
    "- **fbs**: if fasting blood sugar > 120 mg/dl\n",
    "- **restecg**: resting electrocardiographic results\n",
    "  - Values: [normal, stt abnormality, lv hypertrophy]\n",
    "- **thalach**: maximum heart rate achieved\n",
    "- **exang**: exercise-induced angina (True/ False)\n",
    "- **oldpeak**: ST depression induced by exercise relative to rest\n",
    "- **slope**: the slope of the peak exercise ST segment\n",
    "- **ca**: number of major vessels (0-3) colored by fluoroscopy\n",
    "- **thal**: [normal; fixed defect; reversible defect]\n",
    "- **num**: the predicted attribute"
   ]
  },
  {
   "cell_type": "markdown",
   "metadata": {},
   "source": [
    "## Libraries"
   ]
  },
  {
   "cell_type": "code",
   "execution_count": 1,
   "metadata": {},
   "outputs": [],
   "source": [
    "import pandas as pd"
   ]
  },
  {
   "cell_type": "markdown",
   "metadata": {},
   "source": [
    "## Model Development"
   ]
  },
  {
   "cell_type": "markdown",
   "metadata": {},
   "source": [
    "### EDA"
   ]
  },
  {
   "cell_type": "markdown",
   "metadata": {},
   "source": []
  }
 ],
 "metadata": {
  "kernelspec": {
   "display_name": "base",
   "language": "python",
   "name": "python3"
  },
  "language_info": {
   "codemirror_mode": {
    "name": "ipython",
    "version": 3
   },
   "file_extension": ".py",
   "mimetype": "text/x-python",
   "name": "python",
   "nbconvert_exporter": "python",
   "pygments_lexer": "ipython3",
   "version": "3.11.5"
  }
 },
 "nbformat": 4,
 "nbformat_minor": 2
}
