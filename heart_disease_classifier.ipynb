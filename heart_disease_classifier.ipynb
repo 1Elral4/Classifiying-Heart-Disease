{
 "cells": [
  {
   "cell_type": "markdown",
   "metadata": {},
   "source": [
    "# Heart Disease Classifier"
   ]
  },
  {
   "cell_type": "markdown",
   "metadata": {},
   "source": [
    "## Goal"
   ]
  },
  {
   "cell_type": "markdown",
   "metadata": {},
   "source": [
    "Classify wether a person has or hasn't Heart Disease trough logarithmic regression"
   ]
  },
  {
   "cell_type": "markdown",
   "metadata": {},
   "source": [
    "## Data"
   ]
  },
  {
   "cell_type": "markdown",
   "metadata": {},
   "source": [
    "We will use the [Heart Disease Data](https://www.kaggle.com/datasets/redwankarimsony/heart-disease-data) Set from the UCI Machine Learning Repository. Comes from the Cleveland Clinic Foundation, which recorded information on various patient characteristics, including age and chest pain, to try to classify the presence of heart disease in an individual."
   ]
  },
  {
   "cell_type": "markdown",
   "metadata": {},
   "source": [
    "- **id**: Unique id for each patient\n",
    "- **age**: Age of the patient in years\n",
    "- **origin**: place of study\n",
    "- **sex**: Male/Female\n",
    "- **c:** chest pain type ([typical angina, atypical angina, non-anginal, asymptomatic]\n",
    "- **trestbp**: resting blood pressure (resting blood pressure (in mm Hg on admission to the hospital)\n",
    "- **chol**: serum cholesterol in mg/dl\n",
    "- **fbs**: if fasting blood sugar > 120 mg/dl\n",
    "- **restecg**: resting electrocardiographic results\n",
    "  - Values: [normal, stt abnormality, lv hypertrophy]\n",
    "- **thalach**: maximum heart rate achieved\n",
    "- **exang**: exercise-induced angina (True/ False)\n",
    "- **oldpeak**: ST depression induced by exercise relative to rest\n",
    "- **slope**: the slope of the peak exercise ST segment\n",
    "- **ca**: number of major vessels (0-3) colored by fluoroscopy\n",
    "- **thal**: [normal; fixed defect; reversible defect]\n",
    "- **num**: the predicted attribute"
   ]
  },
  {
   "cell_type": "markdown",
   "metadata": {},
   "source": [
    "## Libraries"
   ]
  },
  {
   "cell_type": "code",
   "execution_count": 2,
   "metadata": {},
   "outputs": [],
   "source": [
    "import matplotlib.pyplot as plt\n",
    "import seaborn as sns\n",
    "import numpy as np\n",
    "import pandas as pd"
   ]
  },
  {
   "cell_type": "markdown",
   "metadata": {},
   "source": [
    "## Model Development"
   ]
  },
  {
   "cell_type": "markdown",
   "metadata": {},
   "source": [
    "### Load data"
   ]
  },
  {
   "cell_type": "code",
   "execution_count": 3,
   "metadata": {},
   "outputs": [],
   "source": [
    "hrt = pd.read_csv('data/Heart Disease Data.csv')"
   ]
  },
  {
   "cell_type": "markdown",
   "metadata": {},
   "source": [
    "### EDA"
   ]
  },
  {
   "cell_type": "code",
   "execution_count": 4,
   "metadata": {},
   "outputs": [
    {
     "data": {
      "text/plain": [
       "(920, 16)"
      ]
     },
     "execution_count": 4,
     "metadata": {},
     "output_type": "execute_result"
    }
   ],
   "source": [
    "hrt.shape"
   ]
  },
  {
   "cell_type": "code",
   "execution_count": 5,
   "metadata": {},
   "outputs": [
    {
     "data": {
      "text/plain": [
       "id           0.000000\n",
       "age          0.000000\n",
       "sex          0.000000\n",
       "dataset      0.000000\n",
       "cp           0.000000\n",
       "trestbps     6.413043\n",
       "chol         3.260870\n",
       "fbs          9.782609\n",
       "restecg      0.217391\n",
       "thalch       5.978261\n",
       "exang        5.978261\n",
       "oldpeak      6.739130\n",
       "slope       33.586957\n",
       "ca          66.413043\n",
       "thal        52.826087\n",
       "num          0.000000\n",
       "dtype: float64"
      ]
     },
     "execution_count": 5,
     "metadata": {},
     "output_type": "execute_result"
    }
   ],
   "source": [
    "hrt.isna().sum() / hrt.shape[0] * 100.0"
   ]
  },
  {
   "cell_type": "code",
   "execution_count": 6,
   "metadata": {},
   "outputs": [
    {
     "data": {
      "text/html": [
       "<div>\n",
       "<style scoped>\n",
       "    .dataframe tbody tr th:only-of-type {\n",
       "        vertical-align: middle;\n",
       "    }\n",
       "\n",
       "    .dataframe tbody tr th {\n",
       "        vertical-align: top;\n",
       "    }\n",
       "\n",
       "    .dataframe thead th {\n",
       "        text-align: right;\n",
       "    }\n",
       "</style>\n",
       "<table border=\"1\" class=\"dataframe\">\n",
       "  <thead>\n",
       "    <tr style=\"text-align: right;\">\n",
       "      <th></th>\n",
       "      <th>count</th>\n",
       "      <th>mean</th>\n",
       "      <th>std</th>\n",
       "      <th>min</th>\n",
       "      <th>25%</th>\n",
       "      <th>50%</th>\n",
       "      <th>75%</th>\n",
       "      <th>max</th>\n",
       "    </tr>\n",
       "  </thead>\n",
       "  <tbody>\n",
       "    <tr>\n",
       "      <th>id</th>\n",
       "      <td>920.0</td>\n",
       "      <td>460.500000</td>\n",
       "      <td>265.725422</td>\n",
       "      <td>1.0</td>\n",
       "      <td>230.75</td>\n",
       "      <td>460.5</td>\n",
       "      <td>690.25</td>\n",
       "      <td>920.0</td>\n",
       "    </tr>\n",
       "    <tr>\n",
       "      <th>age</th>\n",
       "      <td>920.0</td>\n",
       "      <td>53.510870</td>\n",
       "      <td>9.424685</td>\n",
       "      <td>28.0</td>\n",
       "      <td>47.00</td>\n",
       "      <td>54.0</td>\n",
       "      <td>60.00</td>\n",
       "      <td>77.0</td>\n",
       "    </tr>\n",
       "    <tr>\n",
       "      <th>trestbps</th>\n",
       "      <td>861.0</td>\n",
       "      <td>132.132404</td>\n",
       "      <td>19.066070</td>\n",
       "      <td>0.0</td>\n",
       "      <td>120.00</td>\n",
       "      <td>130.0</td>\n",
       "      <td>140.00</td>\n",
       "      <td>200.0</td>\n",
       "    </tr>\n",
       "    <tr>\n",
       "      <th>chol</th>\n",
       "      <td>890.0</td>\n",
       "      <td>199.130337</td>\n",
       "      <td>110.780810</td>\n",
       "      <td>0.0</td>\n",
       "      <td>175.00</td>\n",
       "      <td>223.0</td>\n",
       "      <td>268.00</td>\n",
       "      <td>603.0</td>\n",
       "    </tr>\n",
       "    <tr>\n",
       "      <th>thalch</th>\n",
       "      <td>865.0</td>\n",
       "      <td>137.545665</td>\n",
       "      <td>25.926276</td>\n",
       "      <td>60.0</td>\n",
       "      <td>120.00</td>\n",
       "      <td>140.0</td>\n",
       "      <td>157.00</td>\n",
       "      <td>202.0</td>\n",
       "    </tr>\n",
       "    <tr>\n",
       "      <th>oldpeak</th>\n",
       "      <td>858.0</td>\n",
       "      <td>0.878788</td>\n",
       "      <td>1.091226</td>\n",
       "      <td>-2.6</td>\n",
       "      <td>0.00</td>\n",
       "      <td>0.5</td>\n",
       "      <td>1.50</td>\n",
       "      <td>6.2</td>\n",
       "    </tr>\n",
       "    <tr>\n",
       "      <th>ca</th>\n",
       "      <td>309.0</td>\n",
       "      <td>0.676375</td>\n",
       "      <td>0.935653</td>\n",
       "      <td>0.0</td>\n",
       "      <td>0.00</td>\n",
       "      <td>0.0</td>\n",
       "      <td>1.00</td>\n",
       "      <td>3.0</td>\n",
       "    </tr>\n",
       "    <tr>\n",
       "      <th>num</th>\n",
       "      <td>920.0</td>\n",
       "      <td>0.995652</td>\n",
       "      <td>1.142693</td>\n",
       "      <td>0.0</td>\n",
       "      <td>0.00</td>\n",
       "      <td>1.0</td>\n",
       "      <td>2.00</td>\n",
       "      <td>4.0</td>\n",
       "    </tr>\n",
       "  </tbody>\n",
       "</table>\n",
       "</div>"
      ],
      "text/plain": [
       "          count        mean         std   min     25%    50%     75%    max\n",
       "id        920.0  460.500000  265.725422   1.0  230.75  460.5  690.25  920.0\n",
       "age       920.0   53.510870    9.424685  28.0   47.00   54.0   60.00   77.0\n",
       "trestbps  861.0  132.132404   19.066070   0.0  120.00  130.0  140.00  200.0\n",
       "chol      890.0  199.130337  110.780810   0.0  175.00  223.0  268.00  603.0\n",
       "thalch    865.0  137.545665   25.926276  60.0  120.00  140.0  157.00  202.0\n",
       "oldpeak   858.0    0.878788    1.091226  -2.6    0.00    0.5    1.50    6.2\n",
       "ca        309.0    0.676375    0.935653   0.0    0.00    0.0    1.00    3.0\n",
       "num       920.0    0.995652    1.142693   0.0    0.00    1.0    2.00    4.0"
      ]
     },
     "execution_count": 6,
     "metadata": {},
     "output_type": "execute_result"
    }
   ],
   "source": [
    "hrt.describe().T"
   ]
  },
  {
   "cell_type": "markdown",
   "metadata": {},
   "source": [
    "#### Observations"
   ]
  },
  {
   "cell_type": "markdown",
   "metadata": {},
   "source": [
    "- It has missing data, we will deal with it by dropping those observations. We will drop ca and thal features first.\n",
    "- The age is between 28 and 77 yo the median being 54\n",
    "- 79% of the observations are males\n",
    "- We need to clean the num feature, let's consider"
   ]
  },
  {
   "cell_type": "markdown",
   "metadata": {},
   "source": [
    "### Feature Engineering I"
   ]
  },
  {
   "cell_type": "code",
   "execution_count": 7,
   "metadata": {},
   "outputs": [],
   "source": [
    "hrt.drop(['ca', 'thal'], axis=1, inplace=True)"
   ]
  },
  {
   "cell_type": "code",
   "execution_count": 8,
   "metadata": {},
   "outputs": [
    {
     "data": {
      "text/plain": [
       "Index(['id', 'age', 'sex', 'dataset', 'cp', 'trestbps', 'chol', 'fbs',\n",
       "       'restecg', 'thalch', 'exang', 'oldpeak', 'slope', 'num'],\n",
       "      dtype='object')"
      ]
     },
     "execution_count": 8,
     "metadata": {},
     "output_type": "execute_result"
    }
   ],
   "source": [
    "hrt.columns"
   ]
  },
  {
   "cell_type": "code",
   "execution_count": 9,
   "metadata": {},
   "outputs": [],
   "source": [
    "hrt.dropna(inplace=True)"
   ]
  },
  {
   "cell_type": "code",
   "execution_count": 10,
   "metadata": {},
   "outputs": [
    {
     "data": {
      "text/plain": [
       "(531, 14)"
      ]
     },
     "execution_count": 10,
     "metadata": {},
     "output_type": "execute_result"
    }
   ],
   "source": [
    "hrt.shape"
   ]
  },
  {
   "cell_type": "code",
   "execution_count": 11,
   "metadata": {},
   "outputs": [
    {
     "data": {
      "text/plain": [
       "id          0.0\n",
       "age         0.0\n",
       "sex         0.0\n",
       "dataset     0.0\n",
       "cp          0.0\n",
       "trestbps    0.0\n",
       "chol        0.0\n",
       "fbs         0.0\n",
       "restecg     0.0\n",
       "thalch      0.0\n",
       "exang       0.0\n",
       "oldpeak     0.0\n",
       "slope       0.0\n",
       "num         0.0\n",
       "dtype: float64"
      ]
     },
     "execution_count": 11,
     "metadata": {},
     "output_type": "execute_result"
    }
   ],
   "source": [
    "hrt.isna().sum() / hrt.shape[0] * 100.0"
   ]
  },
  {
   "cell_type": "markdown",
   "metadata": {},
   "source": [
    "We removed the features and observations, we are left with 531 out of 920 we started with. We have no longer missing data."
   ]
  },
  {
   "cell_type": "markdown",
   "metadata": {},
   "source": [
    "### Feature Engineering II"
   ]
  },
  {
   "cell_type": "code",
   "execution_count": 12,
   "metadata": {},
   "outputs": [
    {
     "data": {
      "text/plain": [
       "num\n",
       "0    207\n",
       "1    161\n",
       "2     71\n",
       "3     71\n",
       "4     21\n",
       "Name: count, dtype: int64"
      ]
     },
     "execution_count": 12,
     "metadata": {},
     "output_type": "execute_result"
    }
   ],
   "source": [
    "hrt['num'].value_counts()"
   ]
  },
  {
   "cell_type": "code",
   "execution_count": 13,
   "metadata": {},
   "outputs": [],
   "source": [
    "hrt['num'] = hrt['num'].apply(lambda x: 1 if x > 0 else 0)"
   ]
  },
  {
   "cell_type": "code",
   "execution_count": 14,
   "metadata": {},
   "outputs": [
    {
     "data": {
      "text/plain": [
       "num\n",
       "1    324\n",
       "0    207\n",
       "Name: count, dtype: int64"
      ]
     },
     "execution_count": 14,
     "metadata": {},
     "output_type": "execute_result"
    }
   ],
   "source": [
    "hrt['num'].value_counts()"
   ]
  },
  {
   "cell_type": "markdown",
   "metadata": {},
   "source": [
    "After cleaning the target colum we end up with a binary feature"
   ]
  },
  {
   "cell_type": "markdown",
   "metadata": {},
   "source": [
    "### Feature selection"
   ]
  },
  {
   "cell_type": "markdown",
   "metadata": {},
   "source": [
    "Let's find out numerical data with strong correlations and categorical features with different means within its categories"
   ]
  },
  {
   "cell_type": "code",
   "execution_count": 15,
   "metadata": {},
   "outputs": [],
   "source": [
    "hrt_num = list(hrt.select_dtypes(['number']).columns.drop('id'))"
   ]
  },
  {
   "cell_type": "code",
   "execution_count": 16,
   "metadata": {},
   "outputs": [
    {
     "data": {
      "text/plain": [
       "num         1.000000\n",
       "thalch      0.442717\n",
       "oldpeak     0.356444\n",
       "age         0.175486\n",
       "chol        0.163128\n",
       "trestbps    0.154891\n",
       "Name: num, dtype: float64"
      ]
     },
     "execution_count": 16,
     "metadata": {},
     "output_type": "execute_result"
    }
   ],
   "source": [
    "hrt[hrt_num].corr().abs()['num'].sort_values(ascending=False)"
   ]
  },
  {
   "cell_type": "markdown",
   "metadata": {},
   "source": [
    "There are two promising features: thalch and oldpeak"
   ]
  },
  {
   "cell_type": "code",
   "execution_count": 17,
   "metadata": {},
   "outputs": [],
   "source": [
    "selected_hrt_num = ['thalch', 'oldpeak']"
   ]
  },
  {
   "cell_type": "code",
   "execution_count": 18,
   "metadata": {},
   "outputs": [
    {
     "data": {
      "image/png": "[encoded data removed]",
      "text/plain": [
       "<Figure size 640x480 with 1 Axes>"
      ]
     },
     "metadata": {},
     "output_type": "display_data"
    },
    {
     "data": {
      "image/png": "[encoded data removed]",
      "text/plain": [
       "<Figure size 640x480 with 1 Axes>"
      ]
     },
     "metadata": {},
     "output_type": "display_data"
    }
   ],
   "source": [
    "for column in selected_hrt_num:\n",
    "    \n",
    "    sns.boxplot(x='num', y=column, data=hrt)\n",
    "    plt.show()"
   ]
  },
  {
   "cell_type": "markdown",
   "metadata": {},
   "source": [
    "Now lets explore the categorical features"
   ]
  },
  {
   "cell_type": "code",
   "execution_count": 19,
   "metadata": {},
   "outputs": [
    {
     "data": {
      "text/plain": [
       "['sex', 'dataset', 'cp', 'fbs', 'restecg', 'exang', 'slope']"
      ]
     },
     "execution_count": 19,
     "metadata": {},
     "output_type": "execute_result"
    }
   ],
   "source": [
    "hrt_cat = list(hrt.select_dtypes(include=['object']).columns)\n",
    "hrt_cat"
   ]
  },
  {
   "cell_type": "code",
   "execution_count": 23,
   "metadata": {},
   "outputs": [
    {
     "name": "stdout",
     "output_type": "stream",
     "text": [
      "sex     Female       Male\n",
      "num                      \n",
      "0    16.384181  22.598870\n",
      "1     7.532957  53.483992\n",
      "\n",
      "\n",
      "dataset  Cleveland    Hungary  Switzerland  VA Long Beach\n",
      "num                                                      \n",
      "0        30.885122   5.084746     0.188324       2.824859\n",
      "1        26.177024  12.806026     8.474576      13.559322\n",
      "\n",
      "\n",
      "cp   asymptomatic  atypical angina  non-anginal  typical angina\n",
      "num                                                            \n",
      "0       10.922787         9.604520    15.065913        3.389831\n",
      "1       48.775895         3.578154     6.403013        2.259887\n",
      "\n",
      "\n",
      "fbs      False      True \n",
      "num                      \n",
      "0    33.521657   5.461394\n",
      "1    50.470810  10.546139\n",
      "\n",
      "\n",
      "restecg  lv hypertrophy     normal  st-t abnormality\n",
      "num                                                 \n",
      "0             13.370998  23.163842          2.448211\n",
      "1             16.949153  32.768362         11.299435\n",
      "\n",
      "\n",
      "exang      False      True \n",
      "num                        \n",
      "0      30.696798   8.286252\n",
      "1      19.585687  41.431262\n",
      "\n",
      "\n",
      "slope  downsloping       flat  upsloping\n",
      "num                                     \n",
      "0         2.259887  14.312618  22.410546\n",
      "1         6.779661  44.067797  10.169492\n",
      "\n",
      "\n"
     ]
    }
   ],
   "source": [
    "for column in hrt_cat:\n",
    "\n",
    "    print( pd.crosstab(hrt['num'], hrt[column]) / hrt.shape[0] * 100.0)\n",
    "    print('\\n')\n"
   ]
  },
  {
   "cell_type": "markdown",
   "metadata": {},
   "source": [
    "sex, cp, restecg are features that look promising. For example for restecg, in the 'normal' level we see a big difference between the 0 and 1 class, 14.3 and 44.0 respectively"
   ]
  },
  {
   "cell_type": "code",
   "execution_count": 24,
   "metadata": {},
   "outputs": [],
   "source": [
    "selected_hrt_cat = ['sex','cp''restecg']"
   ]
  },
  {
   "cell_type": "markdown",
   "metadata": {},
   "source": [
    "Now we have a set of numerical and categorical features to work with. Now lets encode the categorical features according to its type and scale the numerical features"
   ]
  },
  {
   "cell_type": "markdown",
   "metadata": {},
   "source": []
  }
 ],
 "metadata": {
  "kernelspec": {
   "display_name": "base",
   "language": "python",
   "name": "python3"
  },
  "language_info": {
   "codemirror_mode": {
    "name": "ipython",
    "version": 3
   },
   "file_extension": ".py",
   "mimetype": "text/x-python",
   "name": "python",
   "nbconvert_exporter": "python",
   "pygments_lexer": "ipython3",
   "version": "3.11.5"
  }
 },
 "nbformat": 4,
 "nbformat_minor": 2
}
